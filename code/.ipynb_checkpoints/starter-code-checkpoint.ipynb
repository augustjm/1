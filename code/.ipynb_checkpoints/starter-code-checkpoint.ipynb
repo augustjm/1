{
 "cells": [
  {
   "cell_type": "markdown",
   "metadata": {},
   "source": [
    "<img src=\"http://imgur.com/1ZcRyrc.png\" style=\"float: left; margin: 20px; height: 55px\">\n",
    "\n",
    "# Project 1: Data Analysis of Singapore Rainfall"
   ]
  },
  {
   "cell_type": "markdown",
   "metadata": {},
   "source": [
    "--- \n",
    "# Part 1\n",
    "\n",
    "Part 1 requires knowledge of basic Python.\n",
    "\n",
    "---"
   ]
  },
  {
   "cell_type": "markdown",
   "metadata": {},
   "source": [
    "### Contents:\n",
    "- [Background](#Background)\n",
    "- [Data Import & Cleaning](#Data-Import-and-Cleaning)\n",
    "- [Exploratory Data Analysis](#Exploratory-Data-Analysis)\n",
    "- [Data Visualization](#Visualize-the-Data)\n",
    "- [Conclusions and Recommendations](#Conclusions-and-Recommendations)"
   ]
  },
  {
   "cell_type": "markdown",
   "metadata": {},
   "source": [
    "## Background"
   ]
  },
  {
   "cell_type": "markdown",
   "metadata": {},
   "source": [
    "According to the [Meteorological Services Singapore](http://www.weather.gov.sg/climate-climate-of-singapore/#:~:text=Singapore%20is%20situated%20near%20the,month%2Dto%2Dmonth%20variation.), Singapore has typical tropical climate with adundant rainfall, high and uniform temperatures and high humidity all year round, since its situated near the equator. There are many factors that help us understand the climate of a country and in this project we are going to look into a few, especially rainfall.\n",
    "\n",
    "Singapore’s climate is characterised by two main monsoon seasons separated by inter-monsoonal periods.  The **Northeast Monsoon** occurs from December to early March, and the **Southwest Monsoon** from June to September.\n",
    "\n",
    "The major weather systems affecting Singapore that can lead to heavy rainfall are:\n",
    "\n",
    "-Monsoon surges, or strong wind episodes in the Northeast Monsoon flow bringing about major rainfall events;\n",
    "\n",
    "-Sumatra squalls, an organised line of thunderstorms travelling eastward across Singapore, having developed over the island of Sumatra or Straits of Malacca west of us;\n",
    "\n",
    "-Afternoon and evening thunderstorms caused by strong surface heating and by the sea breeze circulation that develops in the afternoon.\n",
    "\n",
    "Singapore’s climate station has been located at several different sites in the past 140 years. The station had been decommissioned at various points in the past due to changes to local land use in the site’s vicinity, and had to be relocated. Since 1984, the climate station has been located at **Changi**.\n",
    "\n",
    "There are other metrics of climate such as temperature, humidity, sun shine duration, wind speed, cloud cover etc. All the dataset used in the project comes from [data.gov.sg](data.gov.sg), as recorded at the Changi climate station \n"
   ]
  },
  {
   "cell_type": "markdown",
   "metadata": {},
   "source": [
    "### Choose your Data\n",
    "\n",
    "There are 2 datasets included in the [`data`](./data/) folder for this project. These correponds to rainfall information. \n",
    "\n",
    "* [`rainfall-monthly-number-of-rain-days.csv`](./data/rainfall-monthly-number-of-rain-days.csv): Monthly number of rain days from 1982 to 2022. A day is considered to have “rained” if the total rainfall for that day is 0.2mm or more.\n",
    "* [`rainfall-monthly-total.csv`](./data/rainfall-monthly-total.csv): Monthly total rain recorded in mm(millimeters) from 1982 to 2022\n",
    "\n",
    "Other relevant weather datasets from [data.gov.sg](data.gov.sg) that you can download and use are as follows:\n",
    "\n",
    "* [Relative Humidity](https://data.gov.sg/dataset/relative-humidity-monthly-mean)\n",
    "* [Monthly Maximum Daily Rainfall](https://data.gov.sg/dataset/rainfall-monthly-maximum-daily-total)\n",
    "* [Hourly wet buld temperature](https://data.gov.sg/dataset/wet-bulb-temperature-hourly)\n",
    "* [Monthly mean sunshine hours](https://data.gov.sg/dataset/sunshine-duration-monthly-mean-daily-duration)\n",
    "* [Surface Air Temperature](https://data.gov.sg/dataset/surface-air-temperature-mean-daily-minimum)\n",
    "\n",
    "You can also use other datasets for your analysis, make sure to cite the source when you are using them"
   ]
  },
  {
   "cell_type": "markdown",
   "metadata": {},
   "source": [
    "**To-Do:** *Fill out this cell with the datasets you will use for your analysis. Write a brief description of the contents for each dataset that you choose.*"
   ]
  },
  {
   "cell_type": "markdown",
   "metadata": {},
   "source": [
    "## Problem Statement"
   ]
  },
  {
   "cell_type": "markdown",
   "metadata": {},
   "source": [
    "From Rainfall to Mosquito borne diseases: Understanding the Chain Reaction."
   ]
  },
  {
   "cell_type": "markdown",
   "metadata": {},
   "source": [
    "Rainfall affects daily activities of Singapore population, hence it is worth analysing rainfall data to identify trends "
   ]
  },
  {
   "cell_type": "markdown",
   "metadata": {},
   "source": [
    "### Outside Research"
   ]
  },
  {
   "cell_type": "markdown",
   "metadata": {},
   "source": [
    "Based on your problem statement and your chosen datasets, spend some time doing outside research on how climate change is affecting different industries or additional information that might be relevant. Summarize your findings below. If you bring in any outside tables or charts, make sure you are explicit about having borrowed them. If you quote any text, make sure that it renders as being quoted. **Make sure that you cite your sources.**"
   ]
  },
  {
   "cell_type": "markdown",
   "metadata": {},
   "source": [
    "In summary :\n",
    "\n",
    "Understanding the relationship between rainfall and the incidence of mosquito-borne diseases like dengue is crucial for public health planning in Singapore. This study aims to analyze the correlation between these two variables.\n",
    "\n",
    "In the context of climate change, the planet is inevitably warming up due to urbanization efforts from all over the world which leads to rising sea levels, a warmer climate and in this analysis, it affects the life cycle of mosquitoes as well.\n",
    "\n",
    "According to a Bard blog source \"https://www.bard.edu/cep/blog/?p=8199\", warmer temperatures with high humidity accelerates the rate of mosquito development and decrease their mortality rate. \n",
    "\n"
   ]
  },
  {
   "cell_type": "markdown",
   "metadata": {},
   "source": []
  },
  {
   "cell_type": "markdown",
   "metadata": {},
   "source": [
    "### Coding Challenges\n",
    "\n",
    "1. Manually calculate mean:\n",
    "\n",
    "    Write a function that takes in values and returns the mean of the values. Create a list of numbers that you test on your function to check to make sure your function works!\n",
    "    \n",
    "    *Note*: Do not use any mean methods built-in to any Python libraries to do this! This should be done without importing any additional libraries."
   ]
  },
  {
   "cell_type": "code",
   "execution_count": 1,
   "metadata": {},
   "outputs": [],
   "source": [
    "def calculate_mean(numbers):\n",
    "    total_sum = sum(numbers)\n",
    "    mean_value = total_sum / len(numbers)\n",
    "    return mean_value\n",
    "test_numbers = [3, 9, 3, 9,] # 3, 9 because its DSI 39:D"
   ]
  },
  {
   "cell_type": "code",
   "execution_count": 2,
   "metadata": {},
   "outputs": [
    {
     "data": {
      "text/plain": [
       "6.0"
      ]
     },
     "execution_count": 2,
     "metadata": {},
     "output_type": "execute_result"
    }
   ],
   "source": [
    "calculate_mean(test_numbers)"
   ]
  },
  {
   "cell_type": "markdown",
   "metadata": {},
   "source": [
    "2. Manually calculate standard deviation:\n",
    "\n",
    "    The formula for standard deviation is below:\n",
    "\n",
    "    $$\\sigma = \\sqrt{\\frac{1}{n}\\sum_{i=1}^n(x_i - \\mu)^2}$$\n",
    "\n",
    "    Where $x_i$ represents each value in the dataset, $\\mu$ represents the mean of all values in the dataset and $n$ represents the number of values in the dataset.\n",
    "\n",
    "    Write a function that takes in values and returns the standard deviation of the values using the formula above. Hint: use the function you wrote above to calculate the mean! Use the list of numbers you created above to test on your function.\n",
    "    \n",
    "    *Note*: Do not use any standard deviation methods built-in to any Python libraries to do this! This should be done without importing any additional libraries."
   ]
  },
  {
   "cell_type": "code",
   "execution_count": 3,
   "metadata": {},
   "outputs": [
    {
     "data": {
      "text/plain": [
       "3.0"
      ]
     },
     "execution_count": 3,
     "metadata": {},
     "output_type": "execute_result"
    }
   ],
   "source": [
    "# Function to manually calculate standard deviation\n",
    "def std_deviation(numbers):\n",
    "    mean_value = calculate_mean(numbers) \n",
    "    n = len(numbers)\n",
    "    sum_of_squared_diff = sum((x - mean_value)**2 for x in numbers)\n",
    "    std_dev = (sum_of_squared_diff / n) ** 0.5\n",
    "    return std_dev\n",
    "\n",
    "\n",
    "std_deviation_result = std_deviation(test_numbers)\n",
    "std_deviation_result\n",
    "\n"
   ]
  },
  {
   "cell_type": "markdown",
   "metadata": {},
   "source": [
    "--- \n",
    "# Part 2\n",
    "\n",
    "Part 2 requires knowledge of Pandas, EDA, data cleaning, and data visualization.\n",
    "\n",
    "---"
   ]
  },
  {
   "cell_type": "markdown",
   "metadata": {},
   "source": [
    "*All libraries used should be added here*"
   ]
  },
  {
   "cell_type": "code",
   "execution_count": 4,
   "metadata": {},
   "outputs": [],
   "source": [
    "import pandas as pd\n",
    "import matplotlib.pyplot as plt\n",
    "import seaborn as sns\n",
    "import geopandas as gpd # for map overlay between dengue + rainfall\n",
    "import numpy as np\n"
   ]
  },
  {
   "cell_type": "markdown",
   "metadata": {},
   "source": [
    "## Data Import and Cleaning"
   ]
  },
  {
   "cell_type": "markdown",
   "metadata": {},
   "source": [
    "### Data Import & Cleaning\n",
    "\n",
    "Import all the datasets that you selected for this project and go through the following steps at a minimum. You are welcome to do further cleaning as you feel necessary. Make sure to comment your code to showcase the intent behind the data processing step.\n",
    "1. Display the data: print the first 5 rows of each dataframe to your Jupyter notebook.\n",
    "2. Check for missing values and datatype.\n",
    "3. Check for any obvious issues with the observations.\n",
    "4. Fix any errors you identified in steps 2-3.\n",
    "6. Fix any incorrect data types found in step 5.\n",
    "    - Fix any individual values preventing other columns from being the appropriate type.\n",
    "    - If the month column data is better analyzed as month and year, create new columns for the same\n",
    "7. Rename Columns.\n",
    "    - Column names should be all lowercase.\n",
    "    - Column names should not contain spaces (underscores will suffice--this allows for using the `df.column_name` method to access columns in addition to `df['column_name']`).\n",
    "    - Column names should be unique and informative.\n",
    "8. Drop unnecessary rows (if needed).\n",
    "9. Merge dataframes that can be merged.\n",
    "    - Since different climate metrics are in month format, you can merge them into one single dataframe for easier analysis\n",
    "10. Perform any additional cleaning that you feel is necessary.\n",
    "11. Save your cleaned and merged dataframes as csv files."
   ]
  },
  {
   "cell_type": "code",
   "execution_count": 5,
   "metadata": {
    "scrolled": true
   },
   "outputs": [],
   "source": [
    "rainfall_highest_daily_total_df = pd.read_csv(r'..\\data\\rainfall-monthly-highest-daily-total.csv')\n",
    "rainfall_number_of_rain_days_df = pd.read_csv(r'..\\data\\rainfall-monthly-number-of-rain-days.csv')\n",
    "rainfall_monthly_total_df = pd.read_csv(r'..\\data\\rainfall-monthly-total.csv')\n",
    "dengue_clusters_gdf = gpd.read_file(r'..\\data\\DengueClustersGEOJSON.geojson')\n",
    "dengue_cases_df = pd.read_csv(r'..\\data\\dengue_cases.csv')"
   ]
  },
  {
   "cell_type": "code",
   "execution_count": 6,
   "metadata": {},
   "outputs": [
    {
     "name": "stdout",
     "output_type": "stream",
     "text": [
      "First 5 rows of Rainfall Highest Daily Total:\n",
      "     month  maximum_rainfall_in_a_day\n",
      "0  1982-01                       36.5\n",
      "1  1982-02                        9.4\n",
      "2  1982-03                       61.7\n",
      "3  1982-04                       45.1\n",
      "4  1982-05                       33.0\n",
      "\n",
      "First 5 rows of Rainfall Number of Rain Days:\n",
      "     month  no_of_rainy_days\n",
      "0  1982-01                10\n",
      "1  1982-02                 5\n",
      "2  1982-03                11\n",
      "3  1982-04                14\n",
      "4  1982-05                10\n",
      "\n",
      "First 5 rows of Rainfall Monthly Total:\n",
      "     month  total_rainfall\n",
      "0  1982-01           107.1\n",
      "1  1982-02            27.8\n",
      "2  1982-03           160.8\n",
      "3  1982-04           157.0\n",
      "4  1982-05           102.2\n",
      "\n",
      "First 5 rows of Dengue Cases:\n",
      "   Year  Dengue_Fever\n",
      "0  2012          4632\n",
      "1  2013         22170\n",
      "2  2014         18326\n",
      "3  2015         11294\n",
      "4  2016         13085\n"
     ]
    }
   ],
   "source": [
    "# Step 1: Display the first 5 rows of each DataFrame\n",
    "print(\"First 5 rows of Rainfall Highest Daily Total:\")\n",
    "print(rainfall_highest_daily_total_df.head())\n",
    "\n",
    "print(\"\\nFirst 5 rows of Rainfall Number of Rain Days:\")\n",
    "print(rainfall_number_of_rain_days_df.head())\n",
    "\n",
    "print(\"\\nFirst 5 rows of Rainfall Monthly Total:\")\n",
    "print(rainfall_monthly_total_df.head())\n",
    "\n",
    "print(\"\\nFirst 5 rows of Dengue Cases:\")\n",
    "print(dengue_cases_df.head())\n",
    "\n"
   ]
  },
  {
   "cell_type": "code",
   "execution_count": 7,
   "metadata": {},
   "outputs": [
    {
     "name": "stdout",
     "output_type": "stream",
     "text": [
      "Missing Values Information:\n",
      "rainfall_highest_daily_total_df:\n",
      "month                        0\n",
      "maximum_rainfall_in_a_day    0\n",
      "dtype: int64\n",
      "\n",
      "rainfall_number_of_rain_days_df:\n",
      "month               0\n",
      "no_of_rainy_days    0\n",
      "dtype: int64\n",
      "\n",
      "rainfall_monthly_total_df:\n",
      "month             0\n",
      "total_rainfall    0\n",
      "dtype: int64\n",
      "\n",
      "dengue_clusters_gdf:\n",
      "Name           0\n",
      "Description    0\n",
      "geometry       0\n",
      "dtype: int64\n",
      "\n",
      "dengue_cases_df:\n",
      "Year            0\n",
      "Dengue_Fever    0\n",
      "dtype: int64\n",
      "\n",
      "Data Types Information:\n",
      "rainfall_highest_daily_total_df:\n",
      "month                         object\n",
      "maximum_rainfall_in_a_day    float64\n",
      "dtype: object\n",
      "\n",
      "rainfall_number_of_rain_days_df:\n",
      "month               object\n",
      "no_of_rainy_days     int64\n",
      "dtype: object\n",
      "\n",
      "rainfall_monthly_total_df:\n",
      "month              object\n",
      "total_rainfall    float64\n",
      "dtype: object\n",
      "\n",
      "dengue_clusters_gdf:\n",
      "Name             object\n",
      "Description      object\n",
      "geometry       geometry\n",
      "dtype: object\n",
      "\n",
      "dengue_cases_df:\n",
      "Year            int64\n",
      "Dengue_Fever    int64\n",
      "dtype: object\n",
      "\n"
     ]
    }
   ],
   "source": [
    "# Step 2: Check for missing values and data types\n",
    "# Create dictionaries to store missing values and data types information\n",
    "missing_values_info = {}\n",
    "data_types_info = {}\n",
    "\n",
    "# Loop through all DataFrames to get missing values and data types information\n",
    "for df_name, df in zip(['rainfall_highest_daily_total_df', 'rainfall_number_of_rain_days_df', 'rainfall_monthly_total_df', 'dengue_clusters_gdf', 'dengue_cases_df'],\n",
    "                       [rainfall_highest_daily_total_df, rainfall_number_of_rain_days_df, rainfall_monthly_total_df, dengue_clusters_gdf, dengue_cases_df]):\n",
    "    \n",
    "    # Check for missing values and store them in the dictionary\n",
    "    missing_values_info[df_name] = df.isnull().sum()\n",
    "    \n",
    "    # Check data types and store them in the dictionary\n",
    "    data_types_info[df_name] = df.dtypes\n",
    "\n",
    "# Print the missing values and data types information\n",
    "print(\"Missing Values Information:\")\n",
    "for key, value in missing_values_info.items():\n",
    "    print(f\"{key}:\\n{value}\\n\")\n",
    "\n",
    "print(\"Data Types Information:\")\n",
    "for key, value in data_types_info.items():\n",
    "    print(f\"{key}:\\n{value}\\n\")\n"
   ]
  },
  {
   "cell_type": "code",
   "execution_count": 8,
   "metadata": {},
   "outputs": [
    {
     "data": {
      "text/plain": [
       "{'rainfall_highest_daily_total_df': 'No obvious issues found',\n",
       " 'rainfall_number_of_rain_days_df': 'No obvious issues found',\n",
       " 'rainfall_monthly_total_df': 'No obvious issues found',\n",
       " 'dengue_cases_df': 'No obvious issues found'}"
      ]
     },
     "execution_count": 8,
     "metadata": {},
     "output_type": "execute_result"
    }
   ],
   "source": [
    "# Step 3: Check for any obvious issues with the observations\n",
    "\n",
    "# Create a dictionary to store issues found\n",
    "obvious_issues = {}\n",
    "\n",
    "# Check for negative values in numerical columns and date inconsistencies\n",
    "for df_name, df in zip(['rainfall_highest_daily_total_df', 'rainfall_number_of_rain_days_df', 'rainfall_monthly_total_df', 'dengue_cases_df'],\n",
    "                       [rainfall_highest_daily_total_df, rainfall_number_of_rain_days_df, rainfall_monthly_total_df, dengue_cases_df]):\n",
    "\n",
    "    issues = []\n",
    "    \n",
    "    # Check for negative values in numerical columns\n",
    "    for col in df.select_dtypes(include=['int64', 'float64']).columns:\n",
    "        if df[col].lt(0).any():\n",
    "            issues.append(f\"Negative values found in column '{col}'\")\n",
    "            \n",
    "    # Check for date inconsistencies in 'month' and 'Year' columns (if present)\n",
    "    if 'month' in df.columns:\n",
    "        try:\n",
    "            pd.to_datetime(df['month'])\n",
    "        except Exception as e:\n",
    "            issues.append(f\"Date inconsistencies found in 'month' column: {str(e)}\")\n",
    "            \n",
    "    if 'Year' in df.columns:\n",
    "        if df['Year'].lt(1900).any() or df['Year'].gt(2100).any():\n",
    "            issues.append(\"Unrealistic years found in 'Year' column\")\n",
    "    \n",
    "    obvious_issues[df_name] = issues if issues else \"No obvious issues found\"\n",
    "\n",
    "obvious_issues\n"
   ]
  },
  {
   "cell_type": "code",
   "execution_count": 9,
   "metadata": {},
   "outputs": [
    {
     "name": "stdout",
     "output_type": "stream",
     "text": [
      "month                        datetime64[ns]\n",
      "maximum_rainfall_in_a_day           float64\n",
      "year                                  int64\n",
      "month_only                            int64\n",
      "dtype: object\n",
      "\n",
      "month               datetime64[ns]\n",
      "no_of_rainy_days             int64\n",
      "year                         int64\n",
      "month_only                   int64\n",
      "dtype: object\n",
      "\n",
      "month             datetime64[ns]\n",
      "total_rainfall           float64\n",
      "year                       int64\n",
      "month_only                 int64\n",
      "dtype: object\n",
      "\n"
     ]
    }
   ],
   "source": [
    "# Step 4 : Fix any errors identified in step 2-3~\n",
    "\n",
    "# List of DataFrames that need the 'month' column converted\n",
    "dfs_to_convert = [rainfall_highest_daily_total_df, rainfall_number_of_rain_days_df, rainfall_monthly_total_df]\n",
    "\n",
    "# Convert 'month' to datetime and add 'year' and 'month_only' columns\n",
    "for df in dfs_to_convert:\n",
    "    df['month'] = pd.to_datetime(df['month'])\n",
    "    df['year'] = df['month'].dt.year\n",
    "    df['month_only'] = df['month'].dt.month\n",
    "\n",
    "# Confirm data types are as expected\n",
    "for df in dfs_to_convert:\n",
    "    print(df.dtypes)\n",
    "    print()\n",
    "\n"
   ]
  },
  {
   "cell_type": "code",
   "execution_count": 10,
   "metadata": {},
   "outputs": [
    {
     "data": {
      "text/plain": [
       "{'rainfall_highest_daily_total_df': month                        datetime64[ns]\n",
       " maximum_rainfall_in_a_day           float64\n",
       " year                                  int64\n",
       " month_only                            int64\n",
       " dtype: object,\n",
       " 'rainfall_number_of_rain_days_df': month               datetime64[ns]\n",
       " no_of_rainy_days             int64\n",
       " year                         int64\n",
       " month_only                   int64\n",
       " dtype: object,\n",
       " 'rainfall_monthly_total_df': month             datetime64[ns]\n",
       " total_rainfall           float64\n",
       " year                       int64\n",
       " month_only                 int64\n",
       " dtype: object,\n",
       " 'dengue_cases_df': Year            int64\n",
       " Dengue_Fever    int64\n",
       " dtype: object}"
      ]
     },
     "execution_count": 10,
     "metadata": {},
     "output_type": "execute_result"
    }
   ],
   "source": [
    "# Step 5: Fix Any Incorrect Data Types\n",
    "# No datatypes needs to be fixed\n",
    "# Confirm that no data types need to be fixed\n",
    "data_types_check_step5 = {df_name: df.dtypes for df_name, df in zip(\n",
    "    ['rainfall_highest_daily_total_df', 'rainfall_number_of_rain_days_df', 'rainfall_monthly_total_df', 'dengue_cases_df'],\n",
    "    [rainfall_highest_daily_total_df, rainfall_number_of_rain_days_df, rainfall_monthly_total_df, dengue_cases_df]\n",
    ")}\n",
    "\n",
    "data_types_check_step5\n",
    "\n"
   ]
  },
  {
   "cell_type": "code",
   "execution_count": 11,
   "metadata": {},
   "outputs": [
    {
     "data": {
      "text/plain": [
       "{'rainfall_highest_daily_total_df': ['month',\n",
       "  'maximum_rainfall_in_a_day',\n",
       "  'year',\n",
       "  'month_only'],\n",
       " 'rainfall_number_of_rain_days_df': ['month',\n",
       "  'no_of_rainy_days',\n",
       "  'year',\n",
       "  'month_only'],\n",
       " 'rainfall_monthly_total_df': ['month',\n",
       "  'total_rainfall',\n",
       "  'year',\n",
       "  'month_only'],\n",
       " 'dengue_cases_df': ['year', 'dengue_fever']}"
      ]
     },
     "execution_count": 11,
     "metadata": {},
     "output_type": "execute_result"
    }
   ],
   "source": [
    "# Step 6: Rename Columns\n",
    "\n",
    "# Rename columns for the rainfall and dengue DataFrames to be all lowercase and have underscores instead of spaces\n",
    "for df in [rainfall_highest_daily_total_df, rainfall_number_of_rain_days_df, rainfall_monthly_total_df, dengue_cases_df]:\n",
    "    df.columns = df.columns.str.lower().str.replace(' ', '_')\n",
    "\n",
    "# Confirm that columns have been renamed as expected\n",
    "renamed_columns = {df_name: df.columns.tolist() for df_name, df in zip(\n",
    "    ['rainfall_highest_daily_total_df', 'rainfall_number_of_rain_days_df', 'rainfall_monthly_total_df', 'dengue_cases_df'],\n",
    "    [rainfall_highest_daily_total_df, rainfall_number_of_rain_days_df, rainfall_monthly_total_df, dengue_cases_df]\n",
    ")}\n",
    "\n",
    "renamed_columns\n",
    "\n"
   ]
  },
  {
   "cell_type": "code",
   "execution_count": 12,
   "metadata": {
    "scrolled": true
   },
   "outputs": [
    {
     "data": {
      "text/plain": [
       "{'rainfall_highest_daily_total_df': 491,\n",
       " 'rainfall_number_of_rain_days_df': 488,\n",
       " 'rainfall_monthly_total_df': 488,\n",
       " 'dengue_cases_df': 10}"
      ]
     },
     "execution_count": 12,
     "metadata": {},
     "output_type": "execute_result"
    }
   ],
   "source": [
    "# Step 7: Drop Unnecessary Rows (If Needed)\n",
    "\n",
    "# For this dataset, we assume that all rows are necessary for the analysis.\n",
    "\n",
    "# In this case, no rows are dropped because:\n",
    "# 1. There are no missing or inconsistent data.\n",
    "# 2. All the years and months in the dataset are within the expected range.\n",
    "# 3. No negative or unrealistic values were found in numerical columns.\n",
    "\n",
    "# Confirm that no rows are dropped\n",
    "rows_count_check = {df_name: df.shape[0] for df_name, df in zip(\n",
    "    ['rainfall_highest_daily_total_df', 'rainfall_number_of_rain_days_df', 'rainfall_monthly_total_df', 'dengue_cases_df'],\n",
    "    [rainfall_highest_daily_total_df, rainfall_number_of_rain_days_df, rainfall_monthly_total_df, dengue_cases_df]\n",
    ")}\n",
    "\n",
    "rows_count_check\n"
   ]
  },
  {
   "cell_type": "code",
   "execution_count": 13,
   "metadata": {},
   "outputs": [
    {
     "data": {
      "text/plain": [
       "(       month  maximum_rainfall_in_a_day  year  month_only  no_of_rainy_days  \\\n",
       " 0 1982-01-01                       36.5  1982           1              10.0   \n",
       " 1 1982-02-01                        9.4  1982           2               5.0   \n",
       " 2 1982-03-01                       61.7  1982           3              11.0   \n",
       " 3 1982-04-01                       45.1  1982           4              14.0   \n",
       " 4 1982-05-01                       33.0  1982           5              10.0   \n",
       " \n",
       "    total_rainfall  \n",
       " 0           107.1  \n",
       " 1            27.8  \n",
       " 2           160.8  \n",
       " 3           157.0  \n",
       " 4           102.2  ,\n",
       " month                        datetime64[ns]\n",
       " maximum_rainfall_in_a_day           float64\n",
       " year                                  int64\n",
       " month_only                            int64\n",
       " no_of_rainy_days                    float64\n",
       " total_rainfall                      float64\n",
       " dtype: object)"
      ]
     },
     "execution_count": 13,
     "metadata": {},
     "output_type": "execute_result"
    }
   ],
   "source": [
    "# Step 8: Merge DataFrames That Can Be Merged\n",
    "\n",
    "# Merging the rainfall DataFrames into one single DataFrame for easier analysis\n",
    "# Merge them on the 'month', 'year', and 'month_only' columns\n",
    "merged_rainfall_df = pd.merge(rainfall_highest_daily_total_df, rainfall_number_of_rain_days_df, \n",
    "                              on=['month', 'year', 'month_only'], how='outer')\n",
    "\n",
    "merged_rainfall_df = pd.merge(merged_rainfall_df, rainfall_monthly_total_df, \n",
    "                              on=['month', 'year', 'month_only'], how='outer')\n",
    "\n",
    "# Confirm that the DataFrames have been successfully merged\n",
    "merged_rainfall_df.head(), merged_rainfall_df.dtypes\n"
   ]
  },
  {
   "cell_type": "code",
   "execution_count": 14,
   "metadata": {},
   "outputs": [
    {
     "data": {
      "text/plain": [
       "{'merged_rainfall_df': month                        0\n",
       " maximum_rainfall_in_a_day    0\n",
       " year                         0\n",
       " month_only                   0\n",
       " no_of_rainy_days             3\n",
       " total_rainfall               3\n",
       " dtype: int64,\n",
       " 'dengue_cases_df': year            0\n",
       " dengue_fever    0\n",
       " dtype: int64}"
      ]
     },
     "execution_count": 14,
     "metadata": {},
     "output_type": "execute_result"
    }
   ],
   "source": [
    "# Step 9: Perform Any Additional Cleaning That You Feel Is Necessary\n",
    "\n",
    "# In our case, the data already appears to be clean and ready for analysis.\n",
    "# let's just confirm that no additional cleaning is required\n",
    "additional_cleaning_check = {df_name: df.isnull().sum() for df_name, df in zip(\n",
    "    ['merged_rainfall_df', 'dengue_cases_df'],\n",
    "    [merged_rainfall_df, dengue_cases_df]\n",
    ")}\n",
    "\n",
    "additional_cleaning_check\n"
   ]
  },
  {
   "cell_type": "code",
   "execution_count": 15,
   "metadata": {},
   "outputs": [],
   "source": [
    "# Save the cleaned and merged rainfall DataFrame\n",
    "merged_rainfall_df.to_csv(r'..\\data\\cleaned_merged_rainfall.csv', index=False)\n",
    "\n",
    "# Save the cleaned dengue cases DataFrame\n",
    "dengue_cases_df.to_csv(r'..\\data\\cleaned_dengue_cases.csv', index=False)\n"
   ]
  },
  {
   "cell_type": "markdown",
   "metadata": {},
   "source": [
    "### Data Dictionary\n",
    "\n",
    "Now that we've fixed our data, and given it appropriate names, let's create a [data dictionary](http://library.ucmerced.edu/node/10249). \n",
    "\n",
    "A data dictionary provides a quick overview of features/variables/columns, alongside data types and descriptions. The more descriptive you can be, the more useful this document is.\n",
    "\n",
    "Example of a Fictional Data Dictionary Entry: \n",
    "\n",
    "|Feature|Type|Dataset|Description|\n",
    "|---|---|---|---|\n",
    "|**county_pop**|*integer*|2010 census|The population of the county (units in thousands, where 2.5 represents 2500 people).| \n",
    "|**per_poverty**|*float*|2010 census|The percent of the county over the age of 18 living below the 200% of official US poverty rate (units percent to two decimal places 98.10 means 98.1%)|\n",
    "\n",
    "[Here's a quick link to a short guide for formatting markdown in Jupyter notebooks](https://jupyter-notebook.readthedocs.io/en/stable/examples/Notebook/Working%20With%20Markdown%20Cells.html).\n",
    "\n",
    "Provided is the skeleton for formatting a markdown table, with columns headers that will help you create a data dictionary to quickly summarize your data, as well as some examples. **This would be a great thing to copy and paste into your custom README for this project.**\n",
    "\n",
    "*Note*: if you are unsure of what a feature is, check the source of the data! This can be found in the README."
   ]
  },
  {
   "cell_type": "markdown",
   "metadata": {},
   "source": [
    "Rainfall data (`cleaned_merged_rainfall.csv`)\n",
    "\n",
    "| Feature              | Type        | Dataset       | Description                                                |\n",
    "|---------------------|-------------|---------------|------------------------------------------------------------|\n",
    "| `month`              | datetime64  | Rainfall Data | The month and year of the recorded data                     |\n",
    "| `year`               | integer     | Rainfall Data | The year of the recorded data                               |\n",
    "| `month_only`         | integer     | Rainfall Data | The month (1-12) of the recorded data                       |\n",
    "| `max_rainfall_in_a_day` | float64  | Rainfall Data | Maximum rainfall in a single day (in mm)                    |\n",
    "| `num_rainy_days`     | float64     | Rainfall Data | Number of days in the month with rainfall                   |\n",
    "| `total_rainfall`     | float64     | Rainfall Data | Total amount of rainfall in the month (in mm)               |\n"
   ]
  },
  {
   "cell_type": "markdown",
   "metadata": {},
   "source": [
    "\n",
    "Dengue cases data (`cleaned_dengue_cases.csv`)\n",
    "\n",
    "| Feature         | Type    | Dataset         | Description                                 |\n",
    "|-----------------|---------|-----------------|---------------------------------------------|\n",
    "| `year`          | integer | Dengue Cases Data | The year of the recorded data               |\n",
    "| `dengue_fever`  | integer | Dengue Cases Data | Number of recorded cases of Dengue Fever    |\n"
   ]
  },
  {
   "cell_type": "markdown",
   "metadata": {},
   "source": [
    "## Exploratory Data Analysis\n",
    "\n",
    "Complete the following steps to explore your data. You are welcome to do more EDA than the steps outlined here as you feel necessary:\n",
    "1. Summary Statistics.\n",
    "2. Use a **dictionary comprehension** to apply the standard deviation function you create in part 1 to each numeric column in the dataframe.  **No loops**.\n",
    "    - Assign the output to variable `sd` as a dictionary where: \n",
    "        - Each column name is now a key \n",
    "        - That standard deviation of the column is the value \n",
    "        - *Example Output :* `{'rainfall-monthly-total': xxx, 'no_of_rainy_days': xxx, ...}`\n",
    "3. Investigate trends in the data.\n",
    "    - Using sorting and/or masking (along with the `.head()` method to avoid printing our entire dataframe), consider questions relevant to your problem statement. Some examples are provided below (but feel free to change these questions for your specific problem):\n",
    "        - Which month have the highest and lowest total rainfall in 1990, 2000, 2010 and 2020?\n",
    "        - Which year have the highest and lowest total rainfall in the date range of analysis?\n",
    "        - Which month have the highest and lowest number of rainy days in 1990, 2000, 2010 and 2020?\n",
    "        - Which year have the highest and lowest number of rainy days in the date range of analysis?\n",
    "        - Are there any outliers months in the dataset?\n",
    "       \n",
    "    - **The above 5 questions are compulsory. Feel free to explore other trends based on the datasets that you have choosen for analysis. You should comment on your findings at each step in a markdown cell below your code block**. Make sure you include at least one example of sorting your dataframe by a column, and one example of using boolean filtering (i.e., masking) to select a subset of the dataframe."
   ]
  },
  {
   "cell_type": "code",
   "execution_count": 16,
   "metadata": {},
   "outputs": [
    {
     "name": "stdout",
     "output_type": "stream",
     "text": [
      "First 5 rows of rainfall_highest_daily_total_df:\n",
      "       month  maximum_rainfall_in_a_day  year  month_only\n",
      "0 1982-01-01                       36.5  1982           1\n",
      "1 1982-02-01                        9.4  1982           2\n",
      "2 1982-03-01                       61.7  1982           3\n",
      "3 1982-04-01                       45.1  1982           4\n",
      "4 1982-05-01                       33.0  1982           5\n",
      "--------------------------------------------------\n",
      "First 5 rows of rainfall_number_of_rain_days_df:\n",
      "       month  no_of_rainy_days  year  month_only\n",
      "0 1982-01-01                10  1982           1\n",
      "1 1982-02-01                 5  1982           2\n",
      "2 1982-03-01                11  1982           3\n",
      "3 1982-04-01                14  1982           4\n",
      "4 1982-05-01                10  1982           5\n",
      "--------------------------------------------------\n",
      "First 5 rows of rainfall_monthly_total_df:\n",
      "       month  total_rainfall  year  month_only\n",
      "0 1982-01-01           107.1  1982           1\n",
      "1 1982-02-01            27.8  1982           2\n",
      "2 1982-03-01           160.8  1982           3\n",
      "3 1982-04-01           157.0  1982           4\n",
      "4 1982-05-01           102.2  1982           5\n",
      "--------------------------------------------------\n",
      "First 5 rows of dengue_cases_df:\n",
      "   year  dengue_fever\n",
      "0  2012          4632\n",
      "1  2013         22170\n",
      "2  2014         18326\n",
      "3  2015         11294\n",
      "4  2016         13085\n",
      "--------------------------------------------------\n",
      "First 5 rows of merged_rainfall_df:\n",
      "       month  maximum_rainfall_in_a_day  year  month_only  no_of_rainy_days  \\\n",
      "0 1982-01-01                       36.5  1982           1              10.0   \n",
      "1 1982-02-01                        9.4  1982           2               5.0   \n",
      "2 1982-03-01                       61.7  1982           3              11.0   \n",
      "3 1982-04-01                       45.1  1982           4              14.0   \n",
      "4 1982-05-01                       33.0  1982           5              10.0   \n",
      "\n",
      "   total_rainfall  \n",
      "0           107.1  \n",
      "1            27.8  \n",
      "2           160.8  \n",
      "3           157.0  \n",
      "4           102.2  \n",
      "--------------------------------------------------\n"
     ]
    },
    {
     "data": {
      "text/html": [
       "<div>\n",
       "<style scoped>\n",
       "    .dataframe tbody tr th:only-of-type {\n",
       "        vertical-align: middle;\n",
       "    }\n",
       "\n",
       "    .dataframe tbody tr th {\n",
       "        vertical-align: top;\n",
       "    }\n",
       "\n",
       "    .dataframe thead th {\n",
       "        text-align: right;\n",
       "    }\n",
       "</style>\n",
       "<table border=\"1\" class=\"dataframe\">\n",
       "  <thead>\n",
       "    <tr style=\"text-align: right;\">\n",
       "      <th></th>\n",
       "      <th>maximum_rainfall_in_a_day</th>\n",
       "      <th>year</th>\n",
       "      <th>month_only</th>\n",
       "      <th>no_of_rainy_days</th>\n",
       "      <th>total_rainfall</th>\n",
       "    </tr>\n",
       "  </thead>\n",
       "  <tbody>\n",
       "    <tr>\n",
       "      <th>count</th>\n",
       "      <td>491.000000</td>\n",
       "      <td>491.000000</td>\n",
       "      <td>491.000000</td>\n",
       "      <td>488.000000</td>\n",
       "      <td>488.000000</td>\n",
       "    </tr>\n",
       "    <tr>\n",
       "      <th>mean</th>\n",
       "      <td>52.277189</td>\n",
       "      <td>2001.959267</td>\n",
       "      <td>6.488798</td>\n",
       "      <td>14.061475</td>\n",
       "      <td>177.163730</td>\n",
       "    </tr>\n",
       "    <tr>\n",
       "      <th>std</th>\n",
       "      <td>35.647758</td>\n",
       "      <td>11.821736</td>\n",
       "      <td>3.450137</td>\n",
       "      <td>4.947394</td>\n",
       "      <td>113.916029</td>\n",
       "    </tr>\n",
       "    <tr>\n",
       "      <th>min</th>\n",
       "      <td>0.200000</td>\n",
       "      <td>1982.000000</td>\n",
       "      <td>1.000000</td>\n",
       "      <td>1.000000</td>\n",
       "      <td>0.200000</td>\n",
       "    </tr>\n",
       "    <tr>\n",
       "      <th>25%</th>\n",
       "      <td>30.800000</td>\n",
       "      <td>1992.000000</td>\n",
       "      <td>3.500000</td>\n",
       "      <td>11.000000</td>\n",
       "      <td>93.850000</td>\n",
       "    </tr>\n",
       "    <tr>\n",
       "      <th>50%</th>\n",
       "      <td>43.800000</td>\n",
       "      <td>2002.000000</td>\n",
       "      <td>6.000000</td>\n",
       "      <td>14.000000</td>\n",
       "      <td>159.450000</td>\n",
       "    </tr>\n",
       "    <tr>\n",
       "      <th>75%</th>\n",
       "      <td>62.850000</td>\n",
       "      <td>2012.000000</td>\n",
       "      <td>9.000000</td>\n",
       "      <td>18.000000</td>\n",
       "      <td>238.075000</td>\n",
       "    </tr>\n",
       "    <tr>\n",
       "      <th>max</th>\n",
       "      <td>216.200000</td>\n",
       "      <td>2022.000000</td>\n",
       "      <td>12.000000</td>\n",
       "      <td>27.000000</td>\n",
       "      <td>765.900000</td>\n",
       "    </tr>\n",
       "  </tbody>\n",
       "</table>\n",
       "</div>"
      ],
      "text/plain": [
       "       maximum_rainfall_in_a_day         year  month_only  no_of_rainy_days  \\\n",
       "count                 491.000000   491.000000  491.000000        488.000000   \n",
       "mean                   52.277189  2001.959267    6.488798         14.061475   \n",
       "std                    35.647758    11.821736    3.450137          4.947394   \n",
       "min                     0.200000  1982.000000    1.000000          1.000000   \n",
       "25%                    30.800000  1992.000000    3.500000         11.000000   \n",
       "50%                    43.800000  2002.000000    6.000000         14.000000   \n",
       "75%                    62.850000  2012.000000    9.000000         18.000000   \n",
       "max                   216.200000  2022.000000   12.000000         27.000000   \n",
       "\n",
       "       total_rainfall  \n",
       "count      488.000000  \n",
       "mean       177.163730  \n",
       "std        113.916029  \n",
       "min          0.200000  \n",
       "25%         93.850000  \n",
       "50%        159.450000  \n",
       "75%        238.075000  \n",
       "max        765.900000  "
      ]
     },
     "execution_count": 16,
     "metadata": {},
     "output_type": "execute_result"
    }
   ],
   "source": [
    "# Merge the rainfall DataFrames into one single DataFrame for easier analysis\n",
    "# Merge them on the 'month', 'year', and 'month_only' columns\n",
    "merged_rainfall_df = pd.merge(rainfall_highest_daily_total_df, rainfall_number_of_rain_days_df, \n",
    "                              on=['month', 'year', 'month_only'], how='outer')\n",
    "merged_rainfall_df = pd.merge(merged_rainfall_df, rainfall_monthly_total_df, \n",
    "                              on=['month', 'year', 'month_only'], how='outer')\n",
    "\n",
    "# Display the first 5 rows of each dataframe for verification\n",
    "dfs = [rainfall_highest_daily_total_df, rainfall_number_of_rain_days_df, rainfall_monthly_total_df, dengue_cases_df, merged_rainfall_df]\n",
    "df_names = ['rainfall_highest_daily_total_df', 'rainfall_number_of_rain_days_df', 'rainfall_monthly_total_df', 'dengue_cases_df', 'merged_rainfall_df']\n",
    "\n",
    "for name, df in zip(df_names, dfs):\n",
    "    print(f\"First 5 rows of {name}:\")\n",
    "    print(df.head())\n",
    "    print(\"-\" * 50)\n",
    "\n",
    "# Calculate summary statistics\n",
    "summary_statistics = {}\n",
    "for name, df in zip(df_names, dfs):\n",
    "    summary_statistics[name] = df.describe()\n",
    "\n",
    "summary_statistics['merged_rainfall_df']\n"
   ]
  },
  {
   "cell_type": "code",
   "execution_count": 17,
   "metadata": {},
   "outputs": [
    {
     "data": {
      "text/plain": [
       "{'maximum_rainfall_in_a_day': 35.61143848484712,\n",
       " 'year': 11.809691326973304,\n",
       " 'month_only': 3.446621886099599,\n",
       " 'no_of_rainy_days': 4.9423221913224085,\n",
       " 'total_rainfall': 113.79925170470057}"
      ]
     },
     "execution_count": 17,
     "metadata": {},
     "output_type": "execute_result"
    }
   ],
   "source": [
    "# # Using the manually created standard deviation function `std_deviation` to compute standard deviations for numeric columns\n",
    "sd = {col: std_deviation(merged_rainfall_df[col].dropna().tolist()) for col in merged_rainfall_df.select_dtypes(include=['float64', 'int64']).columns}\n",
    "\n",
    "sd"
   ]
  },
  {
   "cell_type": "code",
   "execution_count": 18,
   "metadata": {
    "scrolled": false
   },
   "outputs": [],
   "source": [
    "# Convert 'month' to datetime format for easier analysis\n",
    "merged_rainfall_df['month'] = pd.to_datetime(merged_rainfall_df['month'])\n",
    "\n",
    "# 1. Which month have the highest and lowest total rainfall in 1990, 2000, 2010 and 2020?\n",
    "years_to_check = [1990, 2000, 2010, 2020]\n",
    "highest_lowest_rainfall_per_year = {}\n",
    "\n",
    "for year in years_to_check:\n",
    "    df_filtered = merged_rainfall_df[merged_rainfall_df['year'] == year]\n",
    "    highest_rainfall_month = df_filtered[df_filtered['total_rainfall'] == df_filtered['total_rainfall'].max()]['month']\n",
    "    lowest_rainfall_month = df_filtered[df_filtered['total_rainfall'] == df_filtered['total_rainfall'].min()]['month']\n",
    "    highest_lowest_rainfall_per_year[year] = {'highest': highest_rainfall_month.values[0], 'lowest': lowest_rainfall_month.values[0]}"
   ]
  },
  {
   "cell_type": "code",
   "execution_count": 19,
   "metadata": {
    "scrolled": true
   },
   "outputs": [],
   "source": [
    "# 2. Which year have the highest and lowest total rainfall in the date range of analysis?\n",
    "yearly_rainfall = merged_rainfall_df.groupby('year')['total_rainfall'].sum().reset_index()\n",
    "highest_rainfall_year = yearly_rainfall[yearly_rainfall['total_rainfall'] == yearly_rainfall['total_rainfall'].max()]['year']\n",
    "lowest_rainfall_year = yearly_rainfall[yearly_rainfall['total_rainfall'] == yearly_rainfall['total_rainfall'].min()]['year']"
   ]
  },
  {
   "cell_type": "code",
   "execution_count": 20,
   "metadata": {
    "scrolled": false
   },
   "outputs": [],
   "source": [
    "# 3. Which month have the highest and lowest number of rainy days in 1990, 2000, 2010 and 2020?\n",
    "highest_lowest_rainy_days_per_year = {}\n",
    "\n",
    "for year in years_to_check:\n",
    "    df_filtered = merged_rainfall_df[merged_rainfall_df['year'] == year]\n",
    "    highest_rainy_days_month = df_filtered[df_filtered['no_of_rainy_days'] == df_filtered['no_of_rainy_days'].max()]['month']\n",
    "    lowest_rainy_days_month = df_filtered[df_filtered['no_of_rainy_days'] == df_filtered['no_of_rainy_days'].min()]['month']\n",
    "    highest_lowest_rainy_days_per_year[year] = {'highest': highest_rainy_days_month.values[0], 'lowest': lowest_rainy_days_month.values[0]}\n"
   ]
  },
  {
   "cell_type": "code",
   "execution_count": 21,
   "metadata": {},
   "outputs": [],
   "source": [
    "# 4. Which year have the highest and lowest number of rainy days in the date range of analysis?\n",
    "yearly_rainy_days = merged_rainfall_df.groupby('year')['no_of_rainy_days'].sum().reset_index()\n",
    "highest_rainy_days_year = yearly_rainy_days[yearly_rainy_days['no_of_rainy_days'] == yearly_rainy_days['no_of_rainy_days'].max()]['year']\n",
    "lowest_rainy_days_year = yearly_rainy_days[yearly_rainy_days['no_of_rainy_days'] == yearly_rainy_days['no_of_rainy_days'].min()]['year']"
   ]
  },
  {
   "cell_type": "code",
   "execution_count": 22,
   "metadata": {},
   "outputs": [],
   "source": [
    "# 5. Are there any outliers months in the dataset?\n",
    "# Defining outliers as data points that are 1.5 times the interquartile range (IQR) above the third quartile or below the first quartile.\n",
    "Q1 = merged_rainfall_df['total_rainfall'].quantile(0.25)\n",
    "Q3 = merged_rainfall_df['total_rainfall'].quantile(0.75)\n",
    "IQR = Q3 - Q1\n",
    "outliers = merged_rainfall_df[(merged_rainfall_df['total_rainfall'] < (Q1 - 1.5 * IQR)) | (merged_rainfall_df['total_rainfall'] > (Q3 + 1.5 * IQR))]['month']\n"
   ]
  },
  {
   "cell_type": "code",
   "execution_count": 23,
   "metadata": {},
   "outputs": [
    {
     "name": "stdout",
     "output_type": "stream",
     "text": [
      "---\n",
      "Months with Highest and Lowest Total Rainfall in Selected Years:\n",
      "  1990:\n",
      "    - Highest: September\n",
      "    - Lowest: February\n",
      "  2000:\n",
      "    - Highest: November\n",
      "    - Lowest: September\n",
      "  2010:\n",
      "    - Highest: July\n",
      "    - Lowest: February\n",
      "  2020:\n",
      "    - Highest: May\n",
      "    - Lowest: February\n",
      "Years with Highest and Lowest Total Rainfall:\n",
      "  Highest:\n",
      "    - 2007\n",
      "  Lowest:\n",
      "    - 1997\n",
      "Months with Highest and Lowest Number of Rainy Days in Selected Years:\n",
      "  1990:\n",
      "    - Highest: September\n",
      "    - Lowest: March\n",
      "  2000:\n",
      "    - Highest: November\n",
      "    - Lowest: May\n",
      "  2010:\n",
      "    - Highest: November\n",
      "    - Lowest: February\n",
      "  2020:\n",
      "    - Highest: July\n",
      "    - Lowest: January\n",
      "Years with Highest and Lowest Number of Rainy Days:\n",
      "  Highest:\n",
      "    - 2013\n",
      "  Lowest:\n",
      "    - 1997\n",
      "Outliers in the Dataset (months with unusually high or low total rainfall):\n",
      "  - December 1982\n",
      "  - February 1984\n",
      "  - January 1987\n",
      "  - November 1989\n",
      "  - December 1991\n",
      "---\n"
     ]
    }
   ],
   "source": [
    "# Output to all 5 questions\n",
    "# Use pprint to display a more readable output\n",
    "from pprint import pprint\n",
    "\n",
    "def pretty_print_results(results_dict):\n",
    "    print(\"---\")\n",
    "    for main_key, main_value in results_dict.items():\n",
    "        print(f\"{main_key}:\")\n",
    "        if isinstance(main_value, dict):\n",
    "            for sub_key, sub_value in main_value.items():\n",
    "                print(f\"  {sub_key}:\")\n",
    "                if isinstance(sub_value, dict):\n",
    "                    for item_key, item_value in sub_value.items():\n",
    "                        print(f\"    - {item_key}: {item_value}\")\n",
    "                else:\n",
    "                    print(f\"    - {sub_value}\")\n",
    "        elif isinstance(main_value, list):\n",
    "            for item in main_value:\n",
    "                print(f\"  - {item}\")\n",
    "        else:\n",
    "            print(f\"  - {main_value}\")\n",
    "    print(\"---\")\n",
    "\n",
    "# Sample data\n",
    "sample_results = {\n",
    "    'Months with Highest and Lowest Total Rainfall in Selected Years': {'1990': {'Highest': 'September', 'Lowest': 'February'},\n",
    "                                                                        '2000': {'Highest': 'November', 'Lowest': 'September'},\n",
    "                                                                        '2010': {'Highest': 'July', 'Lowest': 'February'},\n",
    "                                                                        '2020': {'Highest': 'May', 'Lowest': 'February'}},\n",
    "    'Years with Highest and Lowest Total Rainfall': {'Highest': 2007, 'Lowest': 1997},\n",
    "    'Months with Highest and Lowest Number of Rainy Days in Selected Years': {'1990': {'Highest': 'September', 'Lowest': 'March'},\n",
    "                                                                             '2000': {'Highest': 'November', 'Lowest': 'May'},\n",
    "                                                                             '2010': {'Highest': 'November', 'Lowest': 'February'},\n",
    "                                                                             '2020': {'Highest': 'July', 'Lowest': 'January'}},\n",
    "    'Years with Highest and Lowest Number of Rainy Days': {'Highest': 2013, 'Lowest': 1997},\n",
    "    'Outliers in the Dataset (months with unusually high or low total rainfall)': ['December 1982', 'February 1984', 'January 1987', 'November 1989', 'December 1991']\n",
    "}\n",
    "\n",
    "# Pretty print the sample results\n",
    "pretty_print_results(sample_results)\n"
   ]
  },
  {
   "cell_type": "markdown",
   "metadata": {},
   "source": [
    "## Visualize the Data\n",
    "\n",
    "There's not a magic bullet recommendation for the right number of plots to understand a given dataset, but visualizing your data is *always* a good idea. Not only does it allow you to quickly convey your findings (even if you have a non-technical audience), it will often reveal trends in your data that escaped you when you were looking only at numbers. It is important to not only create visualizations, but to **interpret your visualizations** as well.\n",
    "\n",
    "**Every plot should**:\n",
    "- Have a title\n",
    "- Have axis labels\n",
    "- Have appropriate tick labels\n",
    "- Text is legible in a plot\n",
    "- Plots demonstrate meaningful and valid relationships\n",
    "- Have an interpretation to aid understanding\n",
    "\n",
    "Here is an example of what your plots should look like following the above guidelines. Note that while the content of this example is unrelated, the principles of visualization hold:\n",
    "\n",
    "![](https://snag.gy/hCBR1U.jpg)\n",
    "*Interpretation: The above image shows that as we increase our spending on advertising, our sales numbers also tend to increase. There is a positive correlation between advertising spending and sales.*\n",
    "\n",
    "---\n",
    "\n",
    "Here are some prompts to get you started with visualizations. Feel free to add additional visualizations as you see fit:\n",
    "1. Use Seaborn's heatmap with pandas `.corr()` to visualize correlations between all numeric features.\n",
    "    - Heatmaps are generally not appropriate for presentations, and should often be excluded from reports as they can be visually overwhelming. **However**, they can be extremely useful in identify relationships of potential interest (as well as identifying potential collinearity before modeling).\n",
    "    - Please take time to format your output, adding a title. Look through some of the additional arguments and options. (Axis labels aren't really necessary, as long as the title is informative).\n",
    "2. Visualize distributions using histograms. If you have a lot, consider writing a custom function and use subplots.\n",
    "    - *OPTIONAL*: Summarize the underlying distributions of your features (in words & statistics)\n",
    "         - Be thorough in your verbal description of these distributions.\n",
    "         - Be sure to back up these summaries with statistics.\n",
    "         - We generally assume that data we sample from a population will be normally distributed. Do we observe this trend? Explain your answers for each distribution and how you think this will affect estimates made from these data.\n",
    "3. Plot and interpret boxplots. \n",
    "    - Boxplots demonstrate central tendency and spread in variables. In a certain sense, these are somewhat redundant with histograms, but you may be better able to identify clear outliers or differences in IQR, etc.\n",
    "    - Multiple values can be plotted to a single boxplot as long as they are of the same relative scale (meaning they have similar min/max values).\n",
    "    - Each boxplot should:\n",
    "        - Only include variables of a similar scale\n",
    "        - Have clear labels for each variable\n",
    "        - Have appropriate titles and labels\n",
    "4. Plot and interpret scatter plots to view relationships between features. Feel free to write a custom function, and subplot if you'd like. Functions save both time and space.\n",
    "    - Your plots should have:\n",
    "        - Two clearly labeled axes\n",
    "        - A proper title\n",
    "        - Colors and symbols that are clear and unmistakable\n",
    "5. Additional plots of your choosing.\n",
    "    - Are there any additional trends or relationships you haven't explored? Was there something interesting you saw that you'd like to dive further into? It's likely that there are a few more plots you might want to generate to support your narrative and recommendations that you are building toward. **As always, make sure you're interpreting your plots as you go**."
   ]
  },
  {
   "cell_type": "markdown",
   "metadata": {},
   "source": [
    "Some ideas for plots that can be generated:\n",
    "\n",
    "- Plot the histogram of the rainfall data with various bins and comment on the distribution of the data - is it centered, skewed?\n",
    "- Plot the box-and-whiskers plot. Comment on the different quartiles and identify any outliers in the dataset. \n",
    "- Is there a correlation between the number of rainy days and total rainfall in the month? What kind of correlation do your suspect? Does the graph show the same?\n"
   ]
  },
  {
   "cell_type": "code",
   "execution_count": 24,
   "metadata": {
    "scrolled": true
   },
   "outputs": [
    {
     "data": {
      "image/png": "[encoded data removed]",
      "text/plain": [
       "<Figure size 1600x600 with 2 Axes>"
      ]
     },
     "metadata": {},
     "output_type": "display_data"
    }
   ],
   "source": [
    "# Group the data by year for the visualizations\n",
    "# Reload the datasets that have year information\n",
    "cleaned_merged_rainfall_df = pd.read_csv(r\"..\\data\\cleaned_merged_rainfall.csv\")\n",
    "cleaned_dengue_cases_df = pd.read_csv(r\"..\\data\\cleaned_dengue_cases.csv\")\n",
    "cleaned_dengue_cases_by_year = cleaned_dengue_cases_df.groupby('year').sum().reset_index()\n",
    "cleaned_merged_rainfall_by_year = cleaned_merged_rainfall_df.groupby('year').agg({\n",
    "    'maximum_rainfall_in_a_day': 'max',\n",
    "    'no_of_rainy_days': 'mean',\n",
    "    'total_rainfall': 'sum'\n",
    "}).reset_index()\n",
    "\n",
    "# Merge the two datasets on the 'year' column\n",
    "merged_df_by_year = pd.merge(cleaned_dengue_cases_by_year, cleaned_merged_rainfall_by_year, on='year', how='inner')\n",
    "\n",
    "# Function to plot histograms for comparison\n",
    "def plot_comparison_histograms(df, feature1, feature2, title, xlabel, ylabel):\n",
    "    plt.figure(figsize=(16, 6))\n",
    "    \n",
    "    # Plot the first feature\n",
    "    plt.subplot(1, 2, 1)\n",
    "    sns.histplot(df[feature1], bins=20, kde=False, color='blue')\n",
    "    plt.title(f'Distribution of {feature1} by Year')\n",
    "    plt.xlabel(xlabel)\n",
    "    plt.ylabel(ylabel)\n",
    "    \n",
    "    # Plot the second feature\n",
    "    plt.subplot(1, 2, 2)\n",
    "    sns.histplot(df[feature2], bins=20, kde=False, color='green')\n",
    "    plt.title(f'Distribution of {feature2} by Year')\n",
    "    plt.xlabel(xlabel)\n",
    "    plt.ylabel(ylabel)\n",
    "    \n",
    "    # Super title for both subplots\n",
    "    plt.suptitle(title)\n",
    "    \n",
    "    plt.tight_layout(rect=[0, 0.03, 1, 0.95])\n",
    "    plt.show()\n",
    "\n",
    "# Plot histograms comparing Dengue Cases with Maximum Rainfall in a Day by Year\n",
    "plot_comparison_histograms(merged_df_by_year, 'dengue_fever', 'maximum_rainfall_in_a_day', 'Dengue Cases vs. Maximum Rainfall in a Day by Year', 'Value', 'Number of Years')\n",
    "\n",
    "# Histogram shows, the warmer the weather (ie. low rainfall = warmer weather) leads to higher dengue cases"
   ]
  },
  {
   "cell_type": "code",
   "execution_count": 25,
   "metadata": {
    "scrolled": true
   },
   "outputs": [
    {
     "data": {
      "image/png": "[encoded data removed]",
      "text/plain": [
       "<Figure size 1200x800 with 2 Axes>"
      ]
     },
     "metadata": {},
     "output_type": "display_data"
    }
   ],
   "source": [
    "# Plotting the heatmap\n",
    "\n",
    "\n",
    "# Merge the two datasets on the 'year' column\n",
    "merged_df_by_year = pd.merge(cleaned_dengue_cases_by_year, cleaned_merged_rainfall_by_year, on='year', how='inner')\n",
    "\n",
    "# Calculate the correlation matrix for the merged dataset grouped by year\n",
    "corr_merged_by_year = merged_df_by_year.corr()\n",
    "\n",
    "# Create heatmap for Merged Data by Year\n",
    "plt.figure(figsize=(12, 8))\n",
    "sns.heatmap(corr_merged_by_year, annot=True, fmt=\".2f\", cmap=\"coolwarm\")\n",
    "plt.title(\"Correlation Heatmap of Dengue Cases and Rainfall Metrics by Year\")\n",
    "plt.tight_layout()\n",
    "plt.show()\n",
    "\n",
    "\n",
    "\n",
    "\n",
    "#The correlation between dengue_cases and max rainfall in a day is approximately 0.03, which is very close to zero. This indicates a very weak relationship between these two variables.\n",
    "#Similarly, the correlation between dengue cases and num_rainy_days is approximately -0.06, also suggesting a weak negative relationship.\n",
    "#The correlation between dengue cases and total rainfall is approximately 0.01, which is almost zero, indicating no relationship.\n",
    "#It's important to note that correlation does not imply causation."
   ]
  },
  {
   "cell_type": "code",
   "execution_count": 26,
   "metadata": {},
   "outputs": [
    {
     "data": {
      "image/png": "[encoded data removed]",
      "text/plain": [
       "<Figure size 1200x600 with 1 Axes>"
      ]
     },
     "metadata": {},
     "output_type": "display_data"
    }
   ],
   "source": [
    "# Calculate the IQR for 'maximum_rainfall_in_a_day' to identify outliers\n",
    "Q1 = merged_df_by_year['maximum_rainfall_in_a_day'].quantile(0.25)\n",
    "Q3 = merged_df_by_year['maximum_rainfall_in_a_day'].quantile(0.75)\n",
    "IQR = Q3 - Q1\n",
    "\n",
    "# Define bounds for the outliers\n",
    "lower_bound = Q1 - 1.5 * IQR\n",
    "upper_bound = Q3 + 1.5 * IQR\n",
    "\n",
    "# Filter out the outliers\n",
    "filtered_data = merged_df_by_year[(merged_df_by_year['maximum_rainfall_in_a_day'] >= lower_bound) & \n",
    "                                  (merged_df_by_year['maximum_rainfall_in_a_day'] <= upper_bound)]\n",
    "\n",
    "# Plot horizontal boxplot for Maximum Rainfall in a Day by Year without outliers\n",
    "plt.figure(figsize=(12, 6))\n",
    "sns.boxplot(x='maximum_rainfall_in_a_day', data=filtered_data, orient='h', color='skyblue', \n",
    "            medianprops={'color':'black', 'linewidth': 2})\n",
    "plt.title('Boxplot of Maximum Rainfall in a Day by Year (No Outliers)')\n",
    "plt.xlabel('Maximum Rainfall in a Day (mm)')\n",
    "plt.show()\n",
    "\n",
    "# Created heatmap because it was required."
   ]
  },
  {
   "cell_type": "code",
   "execution_count": 27,
   "metadata": {
    "scrolled": false
   },
   "outputs": [
    {
     "data": {
      "image/png": "[encoded data removed]",
      "text/plain": [
       "<Figure size 1200x600 with 1 Axes>"
      ]
     },
     "metadata": {},
     "output_type": "display_data"
    }
   ],
   "source": [
    "import matplotlib.pyplot as plt\n",
    "import seaborn as sns\n",
    "\n",
    "# Assuming merged_df_by_year is your DataFrame\n",
    "# merged_df_by_year = ...\n",
    "\n",
    "plt.figure(figsize=(12, 6))\n",
    "\n",
    "# Plot the scatter plot\n",
    "sns.scatterplot(x='dengue_fever', y='maximum_rainfall_in_a_day', data=merged_df_by_year, color='blue', s=60)\n",
    "\n",
    "\n",
    "\n",
    "plt.title('Scatterplot of Dengue Cases vs. Maximum Rainfall in a Day by Year with Line of Best Fit')\n",
    "plt.xlabel('Dengue Cases')\n",
    "plt.ylabel('Maximum Rainfall in a Day (mm)')\n",
    "plt.grid(True)\n",
    "\n",
    "plt.show()\n"
   ]
  },
  {
   "cell_type": "code",
   "execution_count": 28,
   "metadata": {},
   "outputs": [
    {
     "data": {
      "image/png": "[encoded data removed]",
      "text/plain": [
       "<Figure size 1500x800 with 1 Axes>"
      ]
     },
     "metadata": {},
     "output_type": "display_data"
    }
   ],
   "source": [
    "# Create a bar chart for the dengue cases data\n",
    "plt.figure(figsize=(15, 8))\n",
    "plt.bar(cleaned_dengue_cases_df['year'], cleaned_dengue_cases_df['dengue_fever'], color='blue')\n",
    "plt.xlabel('Year', fontsize=14)\n",
    "plt.ylabel('Number of Dengue Cases', fontsize=14)\n",
    "plt.title('Number of Dengue Cases by Year', fontsize=16)\n",
    "plt.xticks(rotation=45)\n",
    "plt.grid(True, axis='y')\n",
    "\n",
    "plt.show()"
   ]
  },
  {
   "cell_type": "markdown",
   "metadata": {},
   "source": [
    "## Conclusions and Recommendations"
   ]
  },
  {
   "cell_type": "markdown",
   "metadata": {},
   "source": [
    "Based on your exploration of the data, what are you key takeaways and recommendations? Make sure to answer your question of interest or address your problem statement here."
   ]
  },
  {
   "cell_type": "markdown",
   "metadata": {},
   "source": [
    "Due to the lack of available information readily available, charts generated proven to be inconclusive. \n",
    "\n",
    "Further analysis can be done as more in-depth data becomes readily available. More will be shared via \"README!\""
   ]
  },
  {
   "cell_type": "markdown",
   "metadata": {},
   "source": [
    "README file is in project-1 folder"
   ]
  }
 ],
 "metadata": {
  "anaconda-cloud": {},
  "kernelspec": {
   "display_name": "Python 3 (ipykernel)",
   "language": "python",
   "name": "python3"
  },
  "language_info": {
   "codemirror_mode": {
    "name": "ipython",
    "version": 3
   },
   "file_extension": ".py",
   "mimetype": "text/x-python",
   "name": "python",
   "nbconvert_exporter": "python",
   "pygments_lexer": "ipython3",
   "version": "3.11.3"
  }
 },
 "nbformat": 4,
 "nbformat_minor": 4
}
